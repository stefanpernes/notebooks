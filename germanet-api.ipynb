{
 "metadata": {
  "name": "",
  "signature": "sha256:3f4febd982f05bc6a65af004e3494f2bd05d900b53182e4b30bce222b061da43"
 },
 "nbformat": 3,
 "nbformat_minor": 0,
 "worksheets": [
  {
   "cells": [
    {
     "cell_type": "heading",
     "level": 1,
     "metadata": {},
     "source": [
      "germanet"
     ]
    },
    {
     "cell_type": "markdown",
     "metadata": {},
     "source": [
      "cf. https://github.com/wroberts/pygermanet<br>\n",
      "**geported auf python3.4** cf. https://github.com/stefanpernes/pygermanet"
     ]
    },
    {
     "cell_type": "markdown",
     "metadata": {},
     "source": [
      "**(0) modul import**"
     ]
    },
    {
     "cell_type": "code",
     "collapsed": false,
     "input": [
      "from germanet import load_germanet\n",
      "gn = load_germanet()"
     ],
     "language": "python",
     "metadata": {},
     "outputs": [],
     "prompt_number": 4
    },
    {
     "cell_type": "markdown",
     "metadata": {},
     "source": [
      "**(1) lemmatisieren** voraussetzung f\u00fcr synset-ausgabe (aufbauend auf Projekt deutscher Wortschatz)"
     ]
    },
    {
     "cell_type": "code",
     "collapsed": false,
     "input": [
      "gn.lemmatise(u'ginge')"
     ],
     "language": "python",
     "metadata": {},
     "outputs": [
      {
       "metadata": {},
       "output_type": "pyout",
       "prompt_number": 3,
       "text": [
        "['gehen']"
       ]
      }
     ],
     "prompt_number": 3
    },
    {
     "cell_type": "markdown",
     "metadata": {},
     "source": [
      "**(2.1) synset suchen**"
     ]
    },
    {
     "cell_type": "code",
     "collapsed": false,
     "input": [
      "res = gn.synsets('gehen')\n",
      "for r in res: print(r)"
     ],
     "language": "python",
     "metadata": {},
     "outputs": [
      {
       "output_type": "stream",
       "stream": "stdout",
       "text": [
        "<germanet.germanet.GermaNet object at 0x1090a0160>\n",
        "Synset(auseinandergehen.v.3)\n",
        "Synset(funktionieren.v.1)\n",
        "Synset(funktionieren.v.2)\n",
        "Synset(gehen.v.1)\n",
        "Synset(gehen.v.4)\n",
        "Synset(gehen.v.5)\n",
        "Synset(gehen.v.6)\n",
        "Synset(gehen.v.7)\n",
        "Synset(gehen.v.9)\n",
        "Synset(gehen.v.10)\n",
        "Synset(gehen.v.11)\n",
        "Synset(gehen.v.12)\n",
        "Synset(gehen.v.13)\n",
        "Synset(gehen.v.14)\n",
        "Synset(handeln.v.1)\n"
       ]
      }
     ],
     "prompt_number": 2
    },
    {
     "cell_type": "markdown",
     "metadata": {},
     "source": [
      "**(2.2) synset gezielt abfragen + hyponyms**"
     ]
    },
    {
     "cell_type": "code",
     "collapsed": false,
     "input": [
      "funktionieren = gn.synset(u'funktionieren.v.2')\n",
      "print(funktionieren)\n",
      "print(funktionieren.hyponyms)"
     ],
     "language": "python",
     "metadata": {},
     "outputs": [
      {
       "output_type": "stream",
       "stream": "stdout",
       "text": [
        "Synset(funktionieren.v.2)\n",
        "[Synset(vorgehen.v.1), Synset(leerlaufen.v.2)]\n"
       ]
      }
     ],
     "prompt_number": 7
    },
    {
     "cell_type": "markdown",
     "metadata": {},
     "source": [
      "**(3) synset data members and methods**"
     ]
    },
    {
     "cell_type": "code",
     "collapsed": false,
     "input": [
      "gn.synset('Husky.n.1').hypernym_paths"
     ],
     "language": "python",
     "metadata": {},
     "outputs": [
      {
       "metadata": {},
       "output_type": "pyout",
       "prompt_number": 8,
       "text": [
        "[[Synset(GNROOT.n.1),\n",
        "  Synset(Entit\u00e4t.n.2),\n",
        "  Synset(Objekt.n.4),\n",
        "  Synset(Ding.n.2),\n",
        "  Synset(Teil.n.2),\n",
        "  Synset(Teilmenge.n.2),\n",
        "  Synset(Gruppe.n.1),\n",
        "  Synset(biologische Gruppe.n.1),\n",
        "  Synset(Spezies.n.1),\n",
        "  Synset(Rasse.n.1),\n",
        "  Synset(Tierrasse.n.1),\n",
        "  Synset(Hunderasse.n.1),\n",
        "  Synset(Husky.n.1)],\n",
        " [Synset(GNROOT.n.1),\n",
        "  Synset(Entit\u00e4t.n.2),\n",
        "  Synset(kognitives Objekt.n.1),\n",
        "  Synset(Kategorie.n.1),\n",
        "  Synset(Art.n.1),\n",
        "  Synset(Spezies.n.1),\n",
        "  Synset(Rasse.n.1),\n",
        "  Synset(Tierrasse.n.1),\n",
        "  Synset(Hunderasse.n.1),\n",
        "  Synset(Husky.n.1)],\n",
        " [Synset(GNROOT.n.1),\n",
        "  Synset(Entit\u00e4t.n.2),\n",
        "  Synset(Objekt.n.4),\n",
        "  Synset(nat\u00fcrliches Objekt.n.1),\n",
        "  Synset(Wesenheit.n.1),\n",
        "  Synset(Organismus.n.1),\n",
        "  Synset(h\u00f6heres Lebewesen.n.1),\n",
        "  Synset(Tier.n.1),\n",
        "  Synset(Gewebetier.n.1),\n",
        "  Synset(Chordatier.n.1),\n",
        "  Synset(Wirbeltier.n.1),\n",
        "  Synset(S\u00e4ugetier.n.1),\n",
        "  Synset(Plazentatier.n.1),\n",
        "  Synset(Beutegreifer.n.1),\n",
        "  Synset(Landraubtier.n.1),\n",
        "  Synset(hundeartiges Landraubtier.n.1),\n",
        "  Synset(Hund.n.2),\n",
        "  Synset(Husky.n.1)],\n",
        " [Synset(GNROOT.n.1),\n",
        "  Synset(Entit\u00e4t.n.2),\n",
        "  Synset(Objekt.n.4),\n",
        "  Synset(nat\u00fcrliches Objekt.n.1),\n",
        "  Synset(Wesenheit.n.1),\n",
        "  Synset(Organismus.n.1),\n",
        "  Synset(h\u00f6heres Lebewesen.n.1),\n",
        "  Synset(Tier.n.1),\n",
        "  Synset(Haustier.n.1),\n",
        "  Synset(Hund.n.2),\n",
        "  Synset(Husky.n.1)]]"
       ]
      }
     ],
     "prompt_number": 8
    },
    {
     "cell_type": "markdown",
     "metadata": {},
     "source": [
      "**(4) lemmata** - sowohl synsets ('funktionieren'), als auch wortformen ('brennen') k\u00f6nnen sich auf mehrere lemmata beziehen"
     ]
    },
    {
     "cell_type": "code",
     "collapsed": false,
     "input": [
      "funktionieren.lemmas"
     ],
     "language": "python",
     "metadata": {},
     "outputs": [
      {
       "metadata": {},
       "output_type": "pyout",
       "prompt_number": 9,
       "text": [
        "[Lemma(funktionieren.v.2.funktionieren),\n",
        " Lemma(funktionieren.v.2.funzen),\n",
        " Lemma(funktionieren.v.2.gehen),\n",
        " Lemma(funktionieren.v.2.laufen),\n",
        " Lemma(funktionieren.v.2.arbeiten)]"
       ]
      }
     ],
     "prompt_number": 9
    },
    {
     "cell_type": "code",
     "collapsed": false,
     "input": [
      "gn.lemmas('brennen')"
     ],
     "language": "python",
     "metadata": {},
     "outputs": [
      {
       "metadata": {},
       "output_type": "pyout",
       "prompt_number": 13,
       "text": [
        "[Lemma(brennen.v.1.brennen),\n",
        " Lemma(verbrennen.v.1.brennen),\n",
        " Lemma(brennen.v.3.brennen),\n",
        " Lemma(brennen.v.4.brennen),\n",
        " Lemma(brennen.v.5.brennen),\n",
        " Lemma(destillieren.v.1.brennen),\n",
        " Lemma(brennen.v.7.brennen),\n",
        " Lemma(brennen.v.8.brennen)]"
       ]
      }
     ],
     "prompt_number": 13
    },
    {
     "cell_type": "code",
     "collapsed": false,
     "input": [],
     "language": "python",
     "metadata": {},
     "outputs": []
    }
   ],
   "metadata": {}
  }
 ]
}