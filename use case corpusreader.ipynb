{
 "metadata": {
  "name": "",
  "signature": "sha256:674c2463adcf27f1290a906db8cdab45f527cd3b2314857f91d0da86d1f9cb5f"
 },
 "nbformat": 3,
 "nbformat_minor": 0,
 "worksheets": [
  {
   "cells": [
    {
     "cell_type": "code",
     "collapsed": false,
     "input": [
      "import pandas as pd\n",
      "\n",
      "csv = pd.read_csv(\"Effi_Briest_Short.txt.csv\", sep=\"\\t\")\n",
      "\n",
      "print(csv.head(n=20))"
     ],
     "language": "python",
     "metadata": {},
     "outputs": [
      {
       "output_type": "stream",
       "stream": "stdout",
       "text": [
        "   SectionId  ParagraphId  SentenceId  TokenId  Begin  End     Token     Lemma CPOS   POS                               Morphology DependencyHead DependencyRelation NamedEntity\n",
        "0          _            1           0        0      8   15   Theodor   theodor   NP    NE                                        _              6                PNC       B-PER\n",
        "1          _            1           0        1     16   23   Fontane    fontan   NP    NE  number=sg|person=3|tense=pres|mood=subj              6                PNC       I-PER\n",
        "2          _            1           0        2     25   29      Effi      effi   NP    NE           case=nom|number=sg|gender=masc              6                PNC       I-PER\n",
        "3          _            1           0        3     30   36    Briest    briest   NP    NE           case=nom|number=sg|gender=masc              6                PNC       I-PER\n",
        "4          _            1           0        4     38   43     Roman     roman   NP    NE           case=nom|number=sg|gender=masc              6                PNC       I-PER\n",
        "5          _            1           0        5     80   86    Erstes    erster   NP    NE           case=gen|number=sg|gender=masc              6                PNC           _\n",
        "6          _            1           0        6     87   94   Kapitel   kapitel   NP    NE           case=gen|number=sg|gender=masc             24                 DA           _\n",
        "7          _            1           0        7     96   98        In        in   PP  APPR                                        _             24                 MO           _\n",
        "8          _            1           0        8     99  104     Front     front   NN    NN   number=sg|person=3|tense=pres|mood=ind              7                 NK           _\n",
        "9          _            1           0        9    105  108       des       der  ART   ART           case=gen|number=sg|gender=masc             21                 NK           _\n",
        "10         _            1           0       10    109  114     schon     schon  ADV   ADV                                        _             11                 MO           _\n",
        "11         _            1           0       11    115  119      seit      seit   PP  APPR                                        _             20                 MO           _\n",
        "12         _            1           0       12    120  128  Kurf\u00fcrst  kurf\u00fcrst   NN    NN           case=nom|number=sg|gender=masc             11                 NK           _\n",
        "13         _            1           0       13    129  134     Georg     georg   NP    NE           case=nom|number=sg|gender=masc             14                PNC       B-PER\n",
        "14         _            1           0       14    135  142   Wilhelm   wilhelm   NP    NE           case=nom|number=sg|gender=masc             12                 NK       I-PER\n",
        "15         _            1           0       15    143  146       von       von   PP  APPR                                        _             20                SBP           _\n",
        "16         _            1           0       16    147  150       der       der  ART   ART            case=dat|number=sg|gender=fem             17                 NK           _\n",
        "17         _            1           0       17    151  158   Familie   familie   NN    NN            case=dat|number=sg|gender=fem             15                 NK           _\n",
        "18         _            1           0       18    159  162       von       von   PP  APPR                                        _             17                 PG           _\n",
        "19         _            1           0       19    163  169    Briest    briest   NP    NE           case=dat|number=sg|gender=neut             18                 NK           _\n"
       ]
      }
     ],
     "prompt_number": 7
    },
    {
     "cell_type": "code",
     "collapsed": false,
     "input": [
      "columns = ['SentenceId', 'TokenId', 'Token', 'CPOS']\n",
      "\n",
      "df = csv[columns]\n",
      "\n",
      "print(df)"
     ],
     "language": "python",
     "metadata": {},
     "outputs": [
      {
       "output_type": "stream",
       "stream": "stdout",
       "text": [
        "       SentenceId  TokenId          Token  CPOS\n",
        "0               0        0        Theodor    NP\n",
        "1               0        1        Fontane    NP\n",
        "2               0        2           Effi    NP\n",
        "3               0        3         Briest    NP\n",
        "4               0        4          Roman    NP\n",
        "5               0        5         Erstes    NP\n",
        "6               0        6        Kapitel    NP\n",
        "7               0        7             In    PP\n",
        "8               0        8          Front    NN\n",
        "9               0        9            des   ART\n",
        "10              0       10          schon   ADV\n",
        "11              0       11           seit    PP\n",
        "12              0       12       Kurf\u00fcrst    NN\n",
        "13              0       13          Georg    NP\n",
        "14              0       14        Wilhelm    NP\n",
        "15              0       15            von    PP\n",
        "16              0       16            der   ART\n",
        "17              0       17        Familie    NN\n",
        "18              0       18            von    PP\n",
        "19              0       19         Briest    NP\n",
        "20              0       20      bewohnten   ADJ\n",
        "21              0       21   Herrenhauses    NN\n",
        "22              0       22             zu    PP\n",
        "23              0       23  Hohen-Cremmen    NN\n",
        "24              0       24           fiel     V\n",
        "25              0       25         heller   ADJ\n",
        "26              0       26   Sonnenschein    NN\n",
        "27              0       27            auf    PP\n",
        "28              0       28            die   ART\n",
        "29              0       29  mittagsstille   ADJ\n",
        "...           ...      ...            ...   ...\n",
        "15283         803    15283            und  CONJ\n",
        "15284         803    15284         m\u00f6chte     V\n",
        "15285         803    15285           doch   ADV\n",
        "15286         803    15286          nicht     O\n",
        "15287         803    15287              ,  PUNC\n",
        "15288         803    15288           wenn  CONJ\n",
        "15289         803    15289            ich    PR\n",
        "15290         803    15290          diese    PR\n",
        "15291         803    15291          Nacht    NN\n",
        "15292         803    15292    hoffentlich   ADJ\n",
        "15293         803    15293            gut   ADJ\n",
        "15294         803    15294        schlafe     V\n",
        "15295         803    15295              ,  PUNC\n",
        "15296         803    15296         gleich   ADV\n",
        "15297         803    15297          einen   ART\n",
        "15298         803    15298       Chinesen    NN\n",
        "15299         803    15299             an    PP\n",
        "15300         803    15300           mein    PR\n",
        "15301         803    15301           Bett    NN\n",
        "15302         803    15302         treten     V\n",
        "15303         803    15303          sehen     V\n",
        "15304         803    15304              .  PUNC\n",
        "15305         803    15305              \u00ab     O\n",
        "15306         804    15306           \u00bbDas   ADV\n",
        "15307         804    15307           wird     V\n",
        "15308         804    15308             er    PR\n",
        "15309         804    15309           auch   ADV\n",
        "15310         804    15310          nicht     O\n",
        "15311         804    15311              .  PUNC\n",
        "15312         804    15312              \u00ab     O\n",
        "\n",
        "[15313 rows x 4 columns]\n"
       ]
      }
     ],
     "prompt_number": 8
    },
    {
     "cell_type": "code",
     "collapsed": false,
     "input": [
      "sentence = df[df['SentenceId'] == 26]\n",
      "\n",
      "print(sentence)"
     ],
     "language": "python",
     "metadata": {},
     "outputs": [
      {
       "output_type": "stream",
       "stream": "stdout",
       "text": [
        "     SentenceId  TokenId          Token  CPOS\n",
        "785          26      785          Warum    PR\n",
        "786          26      786         kriege     V\n",
        "787          26      787            ich    PR\n",
        "788          26      788          keine    PR\n",
        "789          26      789  Staatskleider    NN\n",
        "790          26      790              ?  PUNC\n"
       ]
      }
     ],
     "prompt_number": 9
    },
    {
     "cell_type": "code",
     "collapsed": false,
     "input": [
      "occurrences = df[df['Token'] == \"Hochzeit\"]\n",
      "\n",
      "print(occurrences)"
     ],
     "language": "python",
     "metadata": {},
     "outputs": [
      {
       "output_type": "stream",
       "stream": "stdout",
       "text": [
        "       SentenceId  TokenId     Token CPOS\n",
        "1653           70     1653  Hochzeit   NN\n",
        "5850          288     5850  Hochzeit   NN\n",
        "6534          306     6534  Hochzeit   NN\n",
        "7934          364     7934  Hochzeit   NN\n",
        "10107         478    10107  Hochzeit   NN\n",
        "11277         560    11277  Hochzeit   NN\n",
        "11413         564    11413  Hochzeit   NN\n",
        "11656         578    11656  Hochzeit   NN\n",
        "11821         583    11821  Hochzeit   NN\n",
        "13249         686    13249  Hochzeit   NN\n"
       ]
      }
     ],
     "prompt_number": 10
    },
    {
     "cell_type": "code",
     "collapsed": false,
     "input": [
      "print(df.iloc[:5, 2:])"
     ],
     "language": "python",
     "metadata": {},
     "outputs": [
      {
       "ename": "NameError",
       "evalue": "name 'df' is not defined",
       "output_type": "pyerr",
       "traceback": [
        "\u001b[0;31m---------------------------------------------------------------------------\u001b[0m\n\u001b[0;31mNameError\u001b[0m                                 Traceback (most recent call last)",
        "\u001b[0;32m<ipython-input-1-6c77ba54f2fb>\u001b[0m in \u001b[0;36m<module>\u001b[0;34m()\u001b[0m\n\u001b[0;32m----> 1\u001b[0;31m \u001b[0mprint\u001b[0m\u001b[0;34m(\u001b[0m\u001b[0mdf\u001b[0m\u001b[0;34m.\u001b[0m\u001b[0miloc\u001b[0m\u001b[0;34m[\u001b[0m\u001b[0;34m:\u001b[0m\u001b[0;36m5\u001b[0m\u001b[0;34m,\u001b[0m \u001b[0;36m2\u001b[0m\u001b[0;34m:\u001b[0m\u001b[0;34m]\u001b[0m\u001b[0;34m)\u001b[0m\u001b[0;34m\u001b[0m\u001b[0m\n\u001b[0m",
        "\u001b[0;31mNameError\u001b[0m: name 'df' is not defined"
       ]
      }
     ],
     "prompt_number": 1
    },
    {
     "cell_type": "heading",
     "level": 3,
     "metadata": {},
     "source": []
    }
   ],
   "metadata": {}
  }
 ]
}